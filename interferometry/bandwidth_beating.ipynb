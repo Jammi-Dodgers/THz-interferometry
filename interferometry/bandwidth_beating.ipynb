{
 "cells": [
  {
   "cell_type": "code",
   "execution_count": 81,
   "metadata": {},
   "outputs": [],
   "source": [
    "import numpy as np\n",
    "import matplotlib.pyplot as plt\n",
    "from PIL import Image\n",
    "import pandas as pd"
   ]
  },
  {
   "cell_type": "code",
   "execution_count": 82,
   "metadata": {},
   "outputs": [],
   "source": [
    "File = open('data\\\\green_beating.csv', 'rt')\n",
    "beating = np.loadtxt(File, skiprows=0, delimiter = \",\") #in um\n",
    "File.close()\n",
    "\n",
    "green_wavelength = 0.520 #in um\n",
    "red_wavelength = 0.635\n",
    "angle = 0.106\n"
   ]
  },
  {
   "cell_type": "code",
   "execution_count": 83,
   "metadata": {},
   "outputs": [],
   "source": [
    "differance = np.zeros(len(beating))\n",
    "for i in np.arange(len(beating)-1,0,-1):\n",
    "    differance[i] = beating[i] - beating[i-1]\n",
    "\n",
    "average_distance = np.mean(differance[1:])"
   ]
  },
  {
   "cell_type": "code",
   "execution_count": 84,
   "metadata": {},
   "outputs": [
    {
     "data": {
      "text/plain": [
       "22.011803276523693"
      ]
     },
     "execution_count": 84,
     "metadata": {},
     "output_type": "execute_result"
    }
   ],
   "source": [
    "def doublet_spacing(d, central_wavelength, angle):\n",
    "    angle = angle*np.pi/180 #convert to radians\n",
    "    return central_wavelength**2 / (4*d*np.sin(angle))\n",
    "\n",
    "bandwidth = doublet_spacing(average_distance, green_wavelength, angle)\n",
    "bandwidth*1e3"
   ]
  },
  {
   "cell_type": "code",
   "execution_count": null,
   "metadata": {},
   "outputs": [],
   "source": []
  }
 ],
 "metadata": {
  "kernelspec": {
   "display_name": "Python 3",
   "language": "python",
   "name": "python3"
  },
  "language_info": {
   "codemirror_mode": {
    "name": "ipython",
    "version": 3
   },
   "file_extension": ".py",
   "mimetype": "text/x-python",
   "name": "python",
   "nbconvert_exporter": "python",
   "pygments_lexer": "ipython3",
   "version": "3.11.4"
  },
  "orig_nbformat": 4
 },
 "nbformat": 4,
 "nbformat_minor": 2
}
