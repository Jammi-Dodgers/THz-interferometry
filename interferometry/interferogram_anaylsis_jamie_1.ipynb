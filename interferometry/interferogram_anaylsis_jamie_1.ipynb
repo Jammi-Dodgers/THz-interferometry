{
 "cells": [
  {
   "cell_type": "markdown",
   "metadata": {},
   "source": [
    "_version log: Copy of Kirill's code_"
   ]
  },
  {
   "cell_type": "code",
   "execution_count": null,
   "metadata": {},
   "outputs": [],
   "source": [
    "from numpy import genfromtxt\n",
    "\n",
    "import numpy as np\n",
    "\n",
    "from matplotlib import pyplot as plt\n",
    "\n",
    "from scipy import ndimage\n",
    "\n",
    "beamABroadband = genfromtxt('0407_source2_BB_BA.csv', delimiter=';')\n",
    "\n",
    "beamBBroadband=genfromtxt('0407_source2_BB_BB.csv', delimiter=';')\n",
    "\n",
    "fringesBroadband=genfromtxt('0407_source2_BB_fringes.csv', delimiter=';')\n",
    "\n",
    "plt.figure(figsize = (16,16))\n",
    "\n",
    "fringesCOR = ndimage.median_filter(fringesBroadband-beamBBroadband-beamABroadband, size=2)\n",
    "\n",
    "im=plt.imshow(fringesCOR[0:490][:490], cmap='plasma',vmin=-6000)\n",
    "\n",
    "plt.colorbar(im)\n",
    "\n",
    "plt.show()\n",
    "\n",
    "beamABroadband=fringesCOR = ndimage.median_filter(beamABroadband, size=3)\n",
    "\n",
    "plt.figure(figsize = (16,16))\n",
    "\n",
    "im=plt.imshow(beamABroadband[0:490][:490], cmap='plasma')\n",
    "\n",
    "plt.colorbar(im)\n",
    "\n",
    "plt.show()\n",
    "\n",
    "beamBBroadband=fringesCOR = ndimage.median_filter(beamBBroadband, size=3)\n",
    "\n",
    "plt.figure(figsize = (16,16))\n",
    "\n",
    "im=plt.imshow(beamBBroadband[0:490][:490], cmap='plasma')\n",
    "\n",
    "plt.colorbar(im)\n",
    "\n",
    "plt.show()\n",
    "\n",
    "\n",
    "\n",
    "\n",
    "ft = np.fft.ifftshift(fringesCOR[0:490][:490])\n",
    "\n",
    "ft = np.fft.fft2(ft)\n",
    "\n",
    "ft = np.fft.fftshift(ft)\n",
    "\n",
    "#plt.subplot(122)\n",
    "\n",
    "plt.figure(figsize = (16,16))\n",
    "\n",
    "plt.imshow(abs(ft), vmax=3000300)\n",
    "\n",
    "#plt.colorbar()\n",
    "\n",
    "#plt.xlim([300, 400])\n",
    "\n",
    "#plt.ylim([200, 300])  # Note, order is reversed for y\n",
    "\n",
    "plt.show()"
   ]
  }
 ],
 "metadata": {
  "kernelspec": {
   "display_name": "Python 3",
   "language": "python",
   "name": "python3"
  },
  "language_info": {
   "name": "python",
   "version": "3.11.4"
  },
  "orig_nbformat": 4
 },
 "nbformat": 4,
 "nbformat_minor": 2
}
